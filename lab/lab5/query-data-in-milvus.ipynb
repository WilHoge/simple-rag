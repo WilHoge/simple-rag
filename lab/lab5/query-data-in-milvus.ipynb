{
 "cells": [
  {
   "cell_type": "markdown",
   "metadata": {},
   "source": [
    "# Query data in Milvus/watsonx.data\n",
    "\n",
    "Now that we have stored data with their vectors in Milvus we can run similarity search queries."
   ]
  },
  {
   "cell_type": "markdown",
   "metadata": {},
   "source": [
    "### Initialize configuration"
   ]
  },
  {
   "cell_type": "code",
   "execution_count": null,
   "metadata": {},
   "outputs": [],
   "source": [
    "import sys\n",
    "sys.path.append(\"../../utils\")\n",
    "import wxd_utils\n",
    "\n",
    "conf=wxd_utils.load_conf()\n",
    "print(conf)"
   ]
  },
  {
   "cell_type": "markdown",
   "metadata": {},
   "source": [
    "#### Connect to Milvus\n",
    "\n",
    "Connect to milvus in watsonx.data. "
   ]
  },
  {
   "cell_type": "code",
   "execution_count": null,
   "metadata": {},
   "outputs": [],
   "source": [
    "from pymilvus import(\n",
    "    Milvus,\n",
    "    IndexType,\n",
    "    Status,\n",
    "    connections,\n",
    "    FieldSchema,\n",
    "    DataType,\n",
    "    Collection,\n",
    "    CollectionSchema,\n",
    ")\n",
    "\n",
    "connections.connect(alias = 'default',\n",
    "                host = conf[\"host\"],\n",
    "                port = conf[\"milvus_port\"],\n",
    "                user = conf[\"user\"],\n",
    "                password = conf[\"password\"],\n",
    "                server_pem_path = conf[\"lh_cert\"],\n",
    "                server_name = conf[\"host\"],\n",
    "                secure = True)"
   ]
  },
  {
   "cell_type": "markdown",
   "metadata": {},
   "source": [
    "### Get collection\n",
    "\n",
    "In lab4 data was stored in a milvus collection. Now load this collection."
   ]
  },
  {
   "cell_type": "code",
   "execution_count": null,
   "metadata": {},
   "outputs": [],
   "source": [
    "from pymilvus import(\n",
    "    Milvus,\n",
    "    IndexType,\n",
    "    Status,\n",
    "    connections,\n",
    "    FieldSchema,\n",
    "    DataType,\n",
    "    Collection,\n",
    "    CollectionSchema,\n",
    ")\n",
    "\n",
    "basic_collection = Collection(\"wiki_articles\")      \n",
    "basic_collection.load()"
   ]
  },
  {
   "cell_type": "markdown",
   "metadata": {},
   "source": [
    "### Load embedding\n",
    "\n",
    "We nedd to load the embedding again to convert the query string to a vector. We have to use the same embedding that we also used for storing the vectors."
   ]
  },
  {
   "cell_type": "code",
   "execution_count": null,
   "metadata": {},
   "outputs": [],
   "source": [
    "embedding = wxd_utils.load_embedding_model(conf, 'ibm/slate-125m-english-rtrvr')"
   ]
  },
  {
   "cell_type": "markdown",
   "metadata": {},
   "source": [
    "### Defining a query function\n",
    "\n",
    "In order to query milvus a query function is defined that vectorizes the query, runs a similarity search with the data stored in milvus and returns the list of articles that are most similar to the query."
   ]
  },
  {
   "cell_type": "code",
   "execution_count": 1,
   "metadata": {},
   "outputs": [],
   "source": [
    "# Query function\n",
    "def query_milvus(query, num_results=5):\n",
    "    \n",
    "    # Vectorize query\n",
    "    query_embeddings = wxd_utils.vectorize_list(embedding, [query])\n",
    "\n",
    "    # Search\n",
    "    search_params = {\n",
    "        \"metric_type\": \"L2\", \n",
    "        \"params\": {\"nprobe\": 5}\n",
    "    }\n",
    "    results = basic_collection.search(\n",
    "        data=query_embeddings, \n",
    "        anns_field=\"vector\", \n",
    "        param=search_params,\n",
    "        limit=num_results,\n",
    "        expr=None, \n",
    "        output_fields=['article_text'],\n",
    "    )\n",
    "    return results"
   ]
  },
  {
   "cell_type": "markdown",
   "metadata": {},
   "source": [
    "### Run query against Milvus\n",
    "\n",
    "Use the query function definded above to query Milvus and give back the closest results."
   ]
  },
  {
   "cell_type": "code",
   "execution_count": null,
   "metadata": {},
   "outputs": [],
   "source": [
    "query = conf[\"default_query\"]\n",
    "\n",
    "results = query_milvus(query)\n",
    "\n",
    "print(f\"Question = {query}\")\n",
    "print(\"Found articles with smallest distance:\")\n",
    "for hits in results:\n",
    "    for hit in hits:\n",
    "        print(f\"ID = {hit.id}, Distance = {hit.distance}, Snip = {hit.article_text[:60]}...\")"
   ]
  }
 ],
 "metadata": {
  "kernelspec": {
   "display_name": "venv",
   "language": "python",
   "name": "python3"
  },
  "language_info": {
   "codemirror_mode": {
    "name": "ipython",
    "version": 3
   },
   "file_extension": ".py",
   "mimetype": "text/x-python",
   "name": "python",
   "nbconvert_exporter": "python",
   "pygments_lexer": "ipython3",
   "version": "3.12.3"
  }
 },
 "nbformat": 4,
 "nbformat_minor": 2
}
