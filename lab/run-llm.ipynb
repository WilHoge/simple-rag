{
 "cells": [
  {
   "cell_type": "code",
   "execution_count": null,
   "metadata": {},
   "outputs": [],
   "source": [
    "import sys\n",
    "sys.path.append(\"../utils\")\n",
    "import pandas as pd\n",
    "import sqlalchemy\n",
    "import wxd_utils\n",
    "\n",
    "conf=wxd_utils.load_conf()\n",
    "print(conf)"
   ]
  },
  {
   "cell_type": "code",
   "execution_count": null,
   "metadata": {},
   "outputs": [],
   "source": [
    "model = wxd_utils.load_model(conf, 'mistralai/mixtral-8x7b-instruct-v01')"
   ]
  },
  {
   "cell_type": "code",
   "execution_count": null,
   "metadata": {},
   "outputs": [],
   "source": [
    "question_text=conf[\"default_query\"]"
   ]
  },
  {
   "cell_type": "code",
   "execution_count": null,
   "metadata": {},
   "outputs": [],
   "source": [
    "from ipywidgets import widgets\n",
    "\n",
    "text_input = widgets.Textarea(value=question_text, disabled=False)\n",
    "result_text = widgets.Textarea(value='', disabled=True)\n",
    "prompt_text = widgets.Textarea(value='', disabled=True)\n",
    "\n",
    "def on_click(b):\n",
    "#    display('You clicked the button!' + text_input.value + \" radio=\" + radio.value)\n",
    "    result_text.value = \"asking LLM ...\"\n",
    "    prompt = text_input.value\n",
    "    prompt_text.value = prompt\n",
    "    result_text.value = ask_llm(prompt, model)\n",
    "\n",
    "button = widgets.Button(description='Ask LLM');\n",
    "button.on_click(on_click)\n",
    "\n",
    "input_box  = widgets.Box([widgets.Label('Your question!'), text_input, button])\n",
    "result_box = widgets.Box([result_text])\n",
    "prompt_box = widgets.Box([prompt_text])\n",
    "\n",
    "box = widgets.VBox(children=[input_box , result_box, prompt_box])\n",
    "\n",
    "result_text.layout.width = '100%'\n",
    "result_text.layout.height = '200px'\n",
    "prompt_text.layout.width = '100%'\n",
    "\n",
    "display(box)\n"
   ]
  }
 ],
 "metadata": {
  "language_info": {
   "name": "python"
  }
 },
 "nbformat": 4,
 "nbformat_minor": 2
}
