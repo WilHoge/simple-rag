{
 "cells": [
  {
   "cell_type": "markdown",
   "metadata": {},
   "source": [
    "# Test a question using a LLM with context\n",
    "\n",
    "In this lab we use the same question as in the previous lab but we add context to the question to get a better result."
   ]
  },
  {
   "cell_type": "markdown",
   "metadata": {},
   "source": [
    "### Initialize configuration"
   ]
  },
  {
   "cell_type": "code",
   "execution_count": null,
   "metadata": {},
   "outputs": [],
   "source": [
    "import sys\n",
    "sys.path.append(\"../../utils\")\n",
    "import wxd_utils\n",
    "\n",
    "conf=wxd_utils.load_conf()\n",
    "print(conf)"
   ]
  },
  {
   "cell_type": "markdown",
   "metadata": {},
   "source": [
    "### Get a LLM from watsonx.ai"
   ]
  },
  {
   "cell_type": "code",
   "execution_count": null,
   "metadata": {},
   "outputs": [],
   "source": [
    "model = wxd_utils.load_model(conf, 'ibm/granite-13b-chat-v2')\n",
    "#model = wxd_utils.load_model(conf, 'mistralai/mixtral-8x7b-instruct-v01')"
   ]
  },
  {
   "cell_type": "markdown",
   "metadata": {},
   "source": [
    "### Get context for the question\n",
    "\n",
    "We get data from wikipedia about the nobel price winner in literature in 2023. This data is used as context for our question."
   ]
  },
  {
   "cell_type": "code",
   "execution_count": null,
   "metadata": {},
   "outputs": [],
   "source": [
    "import wikipedia\n",
    "article = wikipedia.page(pageid=72508137)\n",
    "print(article.content)"
   ]
  },
  {
   "cell_type": "markdown",
   "metadata": {},
   "source": [
    "### Create a small GUI to test the LLM with context\n",
    "\n",
    "- The context is loaded into the context box.\n",
    "- Enter text into the question box.\n",
    "- Press _Ask LLM_ button to send the prompt to the LLM.\n",
    "- The prompt box shows the prompt that was sent to the LLM. It is a combination of the context and the question.\n",
    "- The answer from the LLM is shown in the answer box."
   ]
  },
  {
   "cell_type": "code",
   "execution_count": null,
   "metadata": {},
   "outputs": [],
   "source": [
    "wxd_utils.run_gui_with_context (model, conf[\"default_query\"], article.content)\n"
   ]
  }
 ],
 "metadata": {
  "kernelspec": {
   "display_name": "venv",
   "language": "python",
   "name": "python3"
  },
  "language_info": {
   "codemirror_mode": {
    "name": "ipython",
    "version": 3
   },
   "file_extension": ".py",
   "mimetype": "text/x-python",
   "name": "python",
   "nbconvert_exporter": "python",
   "pygments_lexer": "ipython3",
   "version": "3.12.3"
  }
 },
 "nbformat": 4,
 "nbformat_minor": 2
}
