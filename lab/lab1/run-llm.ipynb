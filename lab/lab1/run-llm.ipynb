{
 "cells": [
  {
   "cell_type": "markdown",
   "metadata": {},
   "source": [
    "# Test a question using a LLM\n",
    "\n",
    "In this first lab you have access to a LLM on watsonx.ai and could ask questions against that model. "
   ]
  },
  {
   "cell_type": "markdown",
   "metadata": {},
   "source": [
    "### Initialize configuration"
   ]
  },
  {
   "cell_type": "code",
   "execution_count": null,
   "metadata": {},
   "outputs": [],
   "source": [
    "import sys\n",
    "sys.path.append(\"../../utils\")\n",
    "import wxd_utils\n",
    "\n",
    "conf=wxd_utils.load_conf()\n",
    "print(conf)"
   ]
  },
  {
   "cell_type": "markdown",
   "metadata": {},
   "source": [
    "### Get a LLM from watsonx.ai"
   ]
  },
  {
   "cell_type": "code",
   "execution_count": null,
   "metadata": {},
   "outputs": [],
   "source": [
    "# call without a model_id to learn what models are available\n",
    "# wxd_utils.load_model_deployment(conf, '')\n",
    "\n",
    "deployment = wxd_utils.load_model_deployment(conf, 'granite-13b-chat')\n",
    "print(deployment)"
   ]
  },
  {
   "cell_type": "markdown",
   "metadata": {},
   "source": [
    "### Create a small GUI to test the LLM\n",
    "\n",
    "- Enter text into the question box.\n",
    "- Press _Ask LLM_ button to send the question to the LLM.\n",
    "- The prompt box shows the prompt that was sent to the LLM. It is identical to the entered text.\n",
    "- The answer from the LLM is shown in the answer box."
   ]
  },
  {
   "cell_type": "code",
   "execution_count": null,
   "metadata": {},
   "outputs": [],
   "source": [
    "wxd_utils.run_gui (deployment, conf[\"default_query\"])\n"
   ]
  }
 ],
 "metadata": {
  "kernelspec": {
   "display_name": "venv",
   "language": "python",
   "name": "python3"
  },
  "language_info": {
   "codemirror_mode": {
    "name": "ipython",
    "version": 3
   },
   "file_extension": ".py",
   "mimetype": "text/x-python",
   "name": "python",
   "nbconvert_exporter": "python",
   "pygments_lexer": "ipython3",
   "version": "3.12.4"
  }
 },
 "nbformat": 4,
 "nbformat_minor": 2
}
