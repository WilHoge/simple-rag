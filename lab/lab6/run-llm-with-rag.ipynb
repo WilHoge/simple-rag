{
 "cells": [
  {
   "cell_type": "markdown",
   "metadata": {},
   "source": [
    "# Ask question using a LLM with automatic context from data stored in Milvus\n",
    "\n",
    "In this lab we use the same question as in labs 1 and 2 but now add context automatically by querying the Milvus database."
   ]
  },
  {
   "cell_type": "markdown",
   "metadata": {},
   "source": [
    "### Initialize configuration"
   ]
  },
  {
   "cell_type": "code",
   "execution_count": null,
   "metadata": {},
   "outputs": [],
   "source": [
    "import sys\n",
    "sys.path.append(\"../../utils\")\n",
    "import wxd_utils\n",
    "\n",
    "conf=wxd_utils.load_conf()\n",
    "print(conf)"
   ]
  },
  {
   "cell_type": "markdown",
   "metadata": {},
   "source": [
    "### Get a LLM from watsonx.ai"
   ]
  },
  {
   "cell_type": "code",
   "execution_count": null,
   "metadata": {},
   "outputs": [],
   "source": [
    "# call without a model_id to learn what models are available\n",
    "# wxd_utils.load_model_deployment(conf, '')\n",
    "\n",
    "deployment = wxd_utils.load_model_deployment(conf, 'llama3-70b-instruct')\n",
    "print(deployment)"
   ]
  },
  {
   "cell_type": "markdown",
   "metadata": {},
   "source": [
    "### Create a small GUI to test the LLM with automatic context from Milvus\n",
    "\n",
    "- Enter text into the question box.\n",
    "- Press _Ask LLM_ button to send the prompt to the LLM.\n",
    "- Milvus is searched for the most similar articles to the question\n",
    "- The context box shows the found articles\n",
    "- The prompt box shows the prompt that was sent to the LLM. It is a combination of the context found in Milvus and the question.\n",
    "- The answer from the LLM is shown in the answer box."
   ]
  },
  {
   "cell_type": "code",
   "execution_count": null,
   "metadata": {},
   "outputs": [],
   "source": [
    "wxd_utils.run_gui_with_rag (deployment, conf[\"default_query\"])\n"
   ]
  }
 ],
 "metadata": {
  "kernelspec": {
   "display_name": "venv",
   "language": "python",
   "name": "python3"
  },
  "language_info": {
   "codemirror_mode": {
    "name": "ipython",
    "version": 3
   },
   "file_extension": ".py",
   "mimetype": "text/x-python",
   "name": "python",
   "nbconvert_exporter": "python",
   "pygments_lexer": "ipython3",
   "version": "3.12.3"
  }
 },
 "nbformat": 4,
 "nbformat_minor": 2
}
