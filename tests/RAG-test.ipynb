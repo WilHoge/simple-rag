{
 "cells": [
  {
   "cell_type": "code",
   "execution_count": null,
   "metadata": {},
   "outputs": [],
   "source": [
    "import os\n",
    "from dotenv import load_dotenv\n",
    "from ibm_cloud_sdk_core import IAMTokenManager\n",
    "import warnings\n",
    "warnings.filterwarnings('ignore')\n",
    "\n",
    "load_dotenv('config.env')\n",
    "\n",
    "# Connection variables\n",
    "api_key = os.getenv(\"API_KEY\", None)\n",
    "ibm_cloud_url = os.getenv(\"IBM_CLOUD_URL\", None) \n",
    "project_id = os.getenv(\"PROJECT_ID\", None)\n",
    "\n",
    "creds = {\n",
    "    \"url\": ibm_cloud_url,\n",
    "    \"apikey\": api_key \n",
    "}\n",
    "access_token = IAMTokenManager(\n",
    "    apikey = api_key,\n",
    "    url = \"https://iam.cloud.ibm.com/identity/token\"\n",
    ").get_token()"
   ]
  },
  {
   "cell_type": "code",
   "execution_count": 1,
   "metadata": {},
   "outputs": [
    {
     "ename": "ConnectionConfigException",
     "evalue": "<ConnectionConfigException: (code=1, message=Type of 'host' must be str.)>",
     "output_type": "error",
     "traceback": [
      "\u001b[0;31m---------------------------------------------------------------------------\u001b[0m",
      "\u001b[0;31mConnectionConfigException\u001b[0m                 Traceback (most recent call last)",
      "Cell \u001b[0;32mIn[1], line 21\u001b[0m\n\u001b[1;32m     18\u001b[0m user \u001b[38;5;241m=\u001b[39m os\u001b[38;5;241m.\u001b[39mgetenv(\u001b[38;5;124m\"\u001b[39m\u001b[38;5;124mLH_USER\u001b[39m\u001b[38;5;124m\"\u001b[39m, \u001b[38;5;28;01mNone\u001b[39;00m)\n\u001b[1;32m     19\u001b[0m server_pem_path \u001b[38;5;241m=\u001b[39m os\u001b[38;5;241m.\u001b[39mgetenv(\u001b[38;5;124m\"\u001b[39m\u001b[38;5;124mLH_CERT\u001b[39m\u001b[38;5;124m\"\u001b[39m, \u001b[38;5;28;01mNone\u001b[39;00m)\n\u001b[0;32m---> 21\u001b[0m \u001b[43mconnections\u001b[49m\u001b[38;5;241;43m.\u001b[39;49m\u001b[43mconnect\u001b[49m\u001b[43m(\u001b[49m\u001b[43malias\u001b[49m\u001b[43m \u001b[49m\u001b[38;5;241;43m=\u001b[39;49m\u001b[43m \u001b[49m\u001b[38;5;124;43m'\u001b[39;49m\u001b[38;5;124;43mdefault\u001b[39;49m\u001b[38;5;124;43m'\u001b[39;49m\u001b[43m,\u001b[49m\n\u001b[1;32m     22\u001b[0m \u001b[43m                   \u001b[49m\u001b[43mhost\u001b[49m\u001b[43m \u001b[49m\u001b[38;5;241;43m=\u001b[39;49m\u001b[43m \u001b[49m\u001b[43mhost\u001b[49m\u001b[43m,\u001b[49m\n\u001b[1;32m     23\u001b[0m \u001b[43m                   \u001b[49m\u001b[43mport\u001b[49m\u001b[43m \u001b[49m\u001b[38;5;241;43m=\u001b[39;49m\u001b[43m \u001b[49m\u001b[43mport\u001b[49m\u001b[43m,\u001b[49m\n\u001b[1;32m     24\u001b[0m \u001b[43m                   \u001b[49m\u001b[43muser\u001b[49m\u001b[43m \u001b[49m\u001b[38;5;241;43m=\u001b[39;49m\u001b[43m \u001b[49m\u001b[43muser\u001b[49m\u001b[43m,\u001b[49m\n\u001b[1;32m     25\u001b[0m \u001b[43m                   \u001b[49m\u001b[43mpassword\u001b[49m\u001b[43m \u001b[49m\u001b[38;5;241;43m=\u001b[39;49m\u001b[43m \u001b[49m\u001b[43mpassword\u001b[49m\u001b[43m,\u001b[49m\n\u001b[1;32m     26\u001b[0m \u001b[43m                   \u001b[49m\u001b[43mserver_pem_path\u001b[49m\u001b[43m \u001b[49m\u001b[38;5;241;43m=\u001b[39;49m\u001b[43m \u001b[49m\u001b[43mserver_pem_path\u001b[49m\u001b[43m,\u001b[49m\n\u001b[1;32m     27\u001b[0m \u001b[43m                   \u001b[49m\u001b[43mserver_name\u001b[49m\u001b[43m \u001b[49m\u001b[38;5;241;43m=\u001b[39;49m\u001b[43m \u001b[49m\u001b[38;5;124;43m'\u001b[39;49m\u001b[38;5;124;43mlocalhost\u001b[39;49m\u001b[38;5;124;43m'\u001b[39;49m\u001b[43m,\u001b[49m\n\u001b[1;32m     28\u001b[0m \u001b[43m                   \u001b[49m\u001b[43msecure\u001b[49m\u001b[43m \u001b[49m\u001b[38;5;241;43m=\u001b[39;49m\u001b[43m \u001b[49m\u001b[38;5;28;43;01mTrue\u001b[39;49;00m\u001b[43m)\u001b[49m\n\u001b[1;32m     30\u001b[0m \u001b[38;5;66;03m# Load collection\u001b[39;00m\n\u001b[1;32m     32\u001b[0m basic_collection \u001b[38;5;241m=\u001b[39m Collection(\u001b[38;5;124m\"\u001b[39m\u001b[38;5;124mwiki_articles\u001b[39m\u001b[38;5;124m\"\u001b[39m)      \n",
      "File \u001b[0;32m~/Library/CloudStorage/Box-Box/__my/SampleData/Git/simple-rag/venv/lib/python3.12/site-packages/pymilvus/orm/connections.py:403\u001b[0m, in \u001b[0;36mConnections.connect\u001b[0;34m(self, alias, user, password, db_name, token, **kwargs)\u001b[0m\n\u001b[1;32m    401\u001b[0m \u001b[38;5;66;03m# 1st Priority: connection from params\u001b[39;00m\n\u001b[1;32m    402\u001b[0m \u001b[38;5;28;01mif\u001b[39;00m with_config(config):\n\u001b[0;32m--> 403\u001b[0m     addr, parsed_uri \u001b[38;5;241m=\u001b[39m \u001b[38;5;28;43mself\u001b[39;49m\u001b[38;5;241;43m.\u001b[39;49m\u001b[43m__get_full_address\u001b[49m\u001b[43m(\u001b[49m\u001b[38;5;241;43m*\u001b[39;49m\u001b[43mconfig\u001b[49m\u001b[43m)\u001b[49m\n\u001b[1;32m    404\u001b[0m     kwargs[\u001b[38;5;124m\"\u001b[39m\u001b[38;5;124maddress\u001b[39m\u001b[38;5;124m\"\u001b[39m] \u001b[38;5;241m=\u001b[39m addr\n\u001b[1;32m    406\u001b[0m     \u001b[38;5;28;01mif\u001b[39;00m \u001b[38;5;28mself\u001b[39m\u001b[38;5;241m.\u001b[39mhas_connection(alias) \u001b[38;5;129;01mand\u001b[39;00m \u001b[38;5;28mself\u001b[39m\u001b[38;5;241m.\u001b[39m_alias[alias]\u001b[38;5;241m.\u001b[39mget(\u001b[38;5;124m\"\u001b[39m\u001b[38;5;124maddress\u001b[39m\u001b[38;5;124m\"\u001b[39m) \u001b[38;5;241m!=\u001b[39m addr:\n",
      "File \u001b[0;32m~/Library/CloudStorage/Box-Box/__my/SampleData/Git/simple-rag/venv/lib/python3.12/site-packages/pymilvus/orm/connections.py:264\u001b[0m, in \u001b[0;36mConnections.__get_full_address\u001b[0;34m(self, address, uri, host, port)\u001b[0m\n\u001b[1;32m    262\u001b[0m _host \u001b[38;5;241m=\u001b[39m host \u001b[38;5;28;01mif\u001b[39;00m host \u001b[38;5;241m!=\u001b[39m \u001b[38;5;124m\"\u001b[39m\u001b[38;5;124m\"\u001b[39m \u001b[38;5;28;01melse\u001b[39;00m Config\u001b[38;5;241m.\u001b[39mDEFAULT_HOST\n\u001b[1;32m    263\u001b[0m _port \u001b[38;5;241m=\u001b[39m port \u001b[38;5;28;01mif\u001b[39;00m port \u001b[38;5;241m!=\u001b[39m \u001b[38;5;124m\"\u001b[39m\u001b[38;5;124m\"\u001b[39m \u001b[38;5;28;01melse\u001b[39;00m Config\u001b[38;5;241m.\u001b[39mDEFAULT_PORT\n\u001b[0;32m--> 264\u001b[0m \u001b[38;5;28;43mself\u001b[39;49m\u001b[38;5;241;43m.\u001b[39;49m\u001b[43m__verify_host_port\u001b[49m\u001b[43m(\u001b[49m\u001b[43m_host\u001b[49m\u001b[43m,\u001b[49m\u001b[43m \u001b[49m\u001b[43m_port\u001b[49m\u001b[43m)\u001b[49m\n\u001b[1;32m    266\u001b[0m addr \u001b[38;5;241m=\u001b[39m \u001b[38;5;124mf\u001b[39m\u001b[38;5;124m\"\u001b[39m\u001b[38;5;132;01m{\u001b[39;00m_host\u001b[38;5;132;01m}\u001b[39;00m\u001b[38;5;124m:\u001b[39m\u001b[38;5;132;01m{\u001b[39;00m_port\u001b[38;5;132;01m}\u001b[39;00m\u001b[38;5;124m\"\u001b[39m\n\u001b[1;32m    267\u001b[0m \u001b[38;5;28;01mif\u001b[39;00m \u001b[38;5;129;01mnot\u001b[39;00m is_legal_address(addr):\n",
      "File \u001b[0;32m~/Library/CloudStorage/Box-Box/__my/SampleData/Git/simple-rag/venv/lib/python3.12/site-packages/pymilvus/orm/connections.py:157\u001b[0m, in \u001b[0;36mConnections.__verify_host_port\u001b[0;34m(self, host, port)\u001b[0m\n\u001b[1;32m    155\u001b[0m \u001b[38;5;28;01mdef\u001b[39;00m \u001b[38;5;21m__verify_host_port\u001b[39m(\u001b[38;5;28mself\u001b[39m, host: \u001b[38;5;28mstr\u001b[39m, port: Union[\u001b[38;5;28mint\u001b[39m, \u001b[38;5;28mstr\u001b[39m]):\n\u001b[1;32m    156\u001b[0m     \u001b[38;5;28;01mif\u001b[39;00m \u001b[38;5;129;01mnot\u001b[39;00m is_legal_host(host):\n\u001b[0;32m--> 157\u001b[0m         \u001b[38;5;28;01mraise\u001b[39;00m ConnectionConfigException(message\u001b[38;5;241m=\u001b[39mExceptionsMessage\u001b[38;5;241m.\u001b[39mHostType)\n\u001b[1;32m    158\u001b[0m     \u001b[38;5;28;01mif\u001b[39;00m \u001b[38;5;129;01mnot\u001b[39;00m is_legal_port(port):\n\u001b[1;32m    159\u001b[0m         \u001b[38;5;28;01mraise\u001b[39;00m ConnectionConfigException(message\u001b[38;5;241m=\u001b[39mExceptionsMessage\u001b[38;5;241m.\u001b[39mPortType)\n",
      "\u001b[0;31mConnectionConfigException\u001b[0m: <ConnectionConfigException: (code=1, message=Type of 'host' must be str.)>"
     ]
    }
   ],
   "source": [
    "from sentence_transformers import SentenceTransformer\n",
    "from pymilvus import(\n",
    "    Milvus,\n",
    "    IndexType,\n",
    "    Status,\n",
    "    connections,\n",
    "    FieldSchema,\n",
    "    DataType,\n",
    "    Collection,\n",
    "    CollectionSchema,\n",
    ")\n",
    "\n",
    "import os \n",
    "\n",
    "host = os.getenv(\"MILVUS_HOST\", None)\n",
    "port = os.getenv(\"MILVUS_PORT\", None)\n",
    "password = os.getenv(\"LH_PW\", None)\n",
    "user = os.getenv(\"LH_USER\", None)\n",
    "server_pem_path = os.getenv(\"LH_CERT\", None)\n",
    "\n",
    "connections.connect(alias = 'default',\n",
    "                   host = host,\n",
    "                   port = port,\n",
    "                   user = user,\n",
    "                   password = password,\n",
    "                   server_pem_path = server_pem_path,\n",
    "                   server_name = host,\n",
    "                   secure = True)\n",
    "\n",
    "# Load collection\n",
    "\n",
    "basic_collection = Collection(\"wiki_articles\")      \n",
    "basic_collection.load()\n",
    "\n",
    "# Query function\n",
    "def query_milvus(query, num_results=5):\n",
    "    \n",
    "    # Vectorize query\n",
    "    model = SentenceTransformer('sentence-transformers/all-MiniLM-L6-v2') # 384 dim\n",
    "    query_embeddings = model.encode([query])\n",
    "\n",
    "    # Search\n",
    "    search_params = {\n",
    "        \"metric_type\": \"L2\", \n",
    "        \"params\": {\"nprobe\": 5}\n",
    "    }\n",
    "    results = basic_collection.search(\n",
    "        data=query_embeddings, \n",
    "        anns_field=\"vector\", \n",
    "        param=search_params,\n",
    "        limit=num_results,\n",
    "        expr=None, \n",
    "        output_fields=['article_text'],\n",
    "    )\n",
    "    return results"
   ]
  },
  {
   "cell_type": "code",
   "execution_count": null,
   "metadata": {},
   "outputs": [],
   "source": [
    "## Consider how climate change may relate to other industries and processes related to your business\n",
    "\n",
    "question_text = \"What can my company do to help fight climate change?\""
   ]
  },
  {
   "cell_type": "code",
   "execution_count": null,
   "metadata": {},
   "outputs": [],
   "source": [
    "# Query Milvus \n",
    "\n",
    "def get_chunks(query):\n",
    "    num_results = 3\n",
    "    results = query_milvus(query, num_results)\n",
    "\n",
    "    relevant_chunks = []\n",
    "    for i in range(num_results):    \n",
    "        #print(f\"id: {results[0].ids[i]}\")\n",
    "        #print(f\"distance: {results[0].distances[i]}\")\n",
    "        text = results[0][i].entity.get('article_text')\n",
    "        relevant_chunks.append(text)\n",
    "    \n",
    "    #print(relevant_chunks)\n",
    "    return relevant_chunks"
   ]
  },
  {
   "cell_type": "code",
   "execution_count": null,
   "metadata": {},
   "outputs": [],
   "source": [
    "def make_prompt(context, question_text):\n",
    "    context = \"\\n\\n\".join(context)\n",
    "    return (f\"{context}\\n\\nPlease answer a question using this text. \"\n",
    "          + f\"If the question is unanswerable, say \\\"unanswerable\\\".\"\n",
    "          + f\"\\n\\nQuestion: {question_text}\")\n"
   ]
  },
  {
   "cell_type": "code",
   "execution_count": 20,
   "metadata": {},
   "outputs": [],
   "source": [
    "from ibm_watson_machine_learning.foundation_models import Model\n",
    "from ibm_watson_machine_learning.metanames import GenTextParamsMetaNames as GenParams\n",
    "\n",
    "# Model Parameters\n",
    "params = {\n",
    "        GenParams.DECODING_METHOD: \"greedy\",\n",
    "        GenParams.MIN_NEW_TOKENS: 1,\n",
    "        GenParams.MAX_NEW_TOKENS: 500,\n",
    "        GenParams.TEMPERATURE: 0,\n",
    "}\n",
    "model = Model(\n",
    "#        model_id='meta-llama/llama-2-70b-chat', \n",
    "        model_id='mistralai/mixtral-8x7b-instruct-v01',\n",
    "        params=params, credentials=creds, \n",
    "        project_id=project_id\n",
    ")\n",
    "\n",
    "# Prompt LLM\n",
    "def ask_llm(prompt):\n",
    "        response = model.generate_text(prompt)\n",
    "        #print(f\"Question: {question_text}{response}\")\n",
    "        return response"
   ]
  },
  {
   "cell_type": "code",
   "execution_count": 21,
   "metadata": {},
   "outputs": [
    {
     "data": {
      "application/vnd.jupyter.widget-view+json": {
       "model_id": "332637f55574431baa25502db389f587",
       "version_major": 2,
       "version_minor": 0
      },
      "text/plain": [
       "VBox(children=(HBox(children=(RadioButtons(description='Please choose', options=('without RAG', 'with RAG'), v…"
      ]
     },
     "metadata": {},
     "output_type": "display_data"
    }
   ],
   "source": [
    "from ipywidgets import widgets\n",
    "\n",
    "text_input = widgets.Textarea(value=question_text, disabled=False)\n",
    "result_text = widgets.Textarea(value='', disabled=True)\n",
    "prompt_text = widgets.Textarea(value='', disabled=True)\n",
    "\n",
    "def on_click(b):\n",
    "#    display('You clicked the button!' + text_input.value + \" radio=\" + radio.value)\n",
    "    if (radio.value == \"without RAG\"):\n",
    "        result_text.value = \"asking AI (without RAG) ...\"\n",
    "        prompt = text_input.value\n",
    "    else:\n",
    "        result_text.value = \"asking AI (with RAG) ...\"\n",
    "        chunks = get_chunks(text_input.value)\n",
    "        prompt = make_prompt(chunks, text_input.value)\n",
    "    prompt_text.value = prompt\n",
    "    result_text.value = ask_llm(prompt)\n",
    "\n",
    "button = widgets.Button(description='Ask AI');\n",
    "button.on_click(on_click)\n",
    "\n",
    "radio=widgets.RadioButtons(options=['without RAG', 'with RAG'], description='Please choose')\n",
    "\n",
    "radio_box  = widgets.HBox([radio])\n",
    "input_box  = widgets.Box([widgets.Label('Your question!'), text_input, button])\n",
    "result_box = widgets.Box([result_text])\n",
    "prompt_box = widgets.Box([prompt_text])\n",
    "\n",
    "box = widgets.VBox(children=[radio_box, input_box , result_box, prompt_box])\n",
    "\n",
    "result_text.layout.width = '100%'\n",
    "result_text.layout.height = '200px'\n",
    "prompt_text.layout.width = '100%'\n",
    "\n",
    "display(box)\n"
   ]
  }
 ],
 "metadata": {
  "kernelspec": {
   "display_name": "venv",
   "language": "python",
   "name": "python3"
  },
  "language_info": {
   "codemirror_mode": {
    "name": "ipython",
    "version": 3
   },
   "file_extension": ".py",
   "mimetype": "text/x-python",
   "name": "python",
   "nbconvert_exporter": "python",
   "pygments_lexer": "ipython3",
   "version": "3.12.3"
  }
 },
 "nbformat": 4,
 "nbformat_minor": 2
}
