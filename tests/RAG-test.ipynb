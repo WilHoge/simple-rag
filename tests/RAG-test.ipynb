{
 "cells": [
  {
   "cell_type": "code",
   "execution_count": 2,
   "metadata": {},
   "outputs": [
    {
     "name": "stdout",
     "output_type": "stream",
     "text": [
      "Requirement already satisfied: grpcio==1.60.0 in /Users/wilfriedhoge/Library/CloudStorage/Box-Box/__my/SampleData/Git/simple-rag/venv/lib/python3.12/site-packages (1.60.0)\n",
      "Requirement already satisfied: pycparser in /Users/wilfriedhoge/Library/CloudStorage/Box-Box/__my/SampleData/Git/simple-rag/venv/lib/python3.12/site-packages (from cffi>=1.12->cryptography>=2.1.4->azure-storage-blob->pymilvus) (2.22)\n"
     ]
    }
   ],
   "source": [
    "!pip install grpcio==1.60.0 | tail -n 1\n",
    "!pip install pymilvus | tail -n 1"
   ]
  },
  {
   "cell_type": "code",
   "execution_count": 3,
   "metadata": {},
   "outputs": [
    {
     "name": "stdout",
     "output_type": "stream",
     "text": [
      "Successfully installed ipython-genutils-0.2.0 ipython-sql-0.4.1 prettytable-0.7.2 sqlalchemy-2.0.30 sqlparse-0.5.0\n",
      "Successfully installed sqlalchemy-1.4.46\n",
      "Successfully installed future-1.0.0 pyhive-0.7.0\n",
      "Successfully installed MarkupSafe-2.1.5 Pillow-10.3.0 filelock-3.14.0 fsspec-2024.3.1 huggingface-hub-0.23.0 jinja2-3.1.4 joblib-1.4.2 mpmath-1.3.0 networkx-3.3 pyyaml-6.0.1 regex-2024.4.28 safetensors-0.4.3 scikit-learn-1.4.2 sentence_transformers-2.7.0 sympy-1.12 threadpoolctl-3.5.0 tokenizers-0.19.1 torch-2.3.0 tqdm-4.66.4 transformers-4.40.2\n",
      "Requirement already satisfied: python-dotenv in /Users/wilfriedhoge/Library/CloudStorage/Box-Box/__my/SampleData/Git/simple-rag/venv/lib/python3.12/site-packages (1.0.1)\n",
      "Successfully installed PyJWT-2.8.0 ibm-cloud-sdk-core-3.20.0\n"
     ]
    }
   ],
   "source": [
    "!pip install ipython-sql==0.4.1 | tail -n 1\n",
    "!pip install sqlalchemy==1.4.46 | tail -n 1\n",
    "!pip install sqlalchemy==1.4.46 \"pyhive[presto]\" | tail -n 1\n",
    "!pip install sentence_transformers | tail -n 1\n",
    "!pip install python-dotenv | tail -n 1\n",
    "!pip install ibm-cloud-sdk-core | tail -n 1"
   ]
  },
  {
   "cell_type": "code",
   "execution_count": 17,
   "metadata": {},
   "outputs": [
    {
     "name": "stderr",
     "output_type": "stream",
     "text": [
      "huggingface/tokenizers: The current process just got forked, after parallelism has already been used. Disabling parallelism to avoid deadlocks...\n",
      "To disable this warning, you can either:\n",
      "\t- Avoid using `tokenizers` before the fork if possible\n",
      "\t- Explicitly set the environment variable TOKENIZERS_PARALLELISM=(true | false)\n",
      "E0507 15:35:39.134888000 13732294656 ssl_transport_security.cc:1511]   Handshake failed with fatal error SSL_ERROR_SSL: error:1000007d:SSL routines:OPENSSL_internal:CERTIFICATE_VERIFY_FAILED.\n"
     ]
    },
    {
     "name": "stdout",
     "output_type": "stream",
     "text": [
      "Successfully installed ibm-cos-sdk-2.13.4 ibm-cos-sdk-core-2.13.4 ibm-cos-sdk-s3transfer-2.13.4 ibm_watson_machine_learning-1.0.356 importlib-metadata-7.1.0 jmespath-1.0.1 lomond-0.3.3 pandas-2.1.4 tabulate-0.9.0 urllib3-2.1.0 zipp-3.18.1\n"
     ]
    },
    {
     "name": "stderr",
     "output_type": "stream",
     "text": [
      "E0507 15:35:48.185981000 13840625664 ssl_transport_security.cc:1511]   Handshake failed with fatal error SSL_ERROR_SSL: error:1000007d:SSL routines:OPENSSL_internal:CERTIFICATE_VERIFY_FAILED.\n"
     ]
    }
   ],
   "source": [
    "!pip install ibm_watson_machine_learning | tail -n1"
   ]
  },
  {
   "cell_type": "code",
   "execution_count": 4,
   "metadata": {},
   "outputs": [],
   "source": [
    "PROJECT_ID=\"0f894bac-9abe-4a26-a17c-958186743029\"\n",
    "ACCESS_TOKEN=\"p-2+l6q+zqZH5sLma42mP5oIaw==;7GofcXPpkilxSWLnqpRkIQ==:N7ooxvSB8bH0NjnAMTt9+5tTm7F6AJIFiloNFkWc0CVyTZWoyym2RFQTctDmh0frrgOAr1e7m28YnQj4/GLgcltCsXNX5vdgOA==\""
   ]
  },
  {
   "cell_type": "code",
   "execution_count": 11,
   "metadata": {},
   "outputs": [],
   "source": [
    "import os\n",
    "from dotenv import load_dotenv\n",
    "from ibm_cloud_sdk_core import IAMTokenManager\n",
    "import warnings\n",
    "warnings.filterwarnings('ignore')\n",
    "\n",
    "load_dotenv('config.env')\n",
    "\n",
    "# Connection variables\n",
    "api_key = os.getenv(\"API_KEY\", None)\n",
    "ibm_cloud_url = os.getenv(\"IBM_CLOUD_URL\", None) \n",
    "project_id = os.getenv(\"PROJECT_ID\", None)\n",
    "\n",
    "creds = {\n",
    "    \"url\": ibm_cloud_url,\n",
    "    \"apikey\": api_key \n",
    "}\n",
    "access_token = IAMTokenManager(\n",
    "    apikey = api_key,\n",
    "    url = \"https://iam.cloud.ibm.com/identity/token\"\n",
    ").get_token()"
   ]
  },
  {
   "cell_type": "code",
   "execution_count": 12,
   "metadata": {},
   "outputs": [],
   "source": [
    "from sentence_transformers import SentenceTransformer\n",
    "from pymilvus import(\n",
    "    Milvus,\n",
    "    IndexType,\n",
    "    Status,\n",
    "    connections,\n",
    "    FieldSchema,\n",
    "    DataType,\n",
    "    Collection,\n",
    "    CollectionSchema,\n",
    ")\n",
    "\n",
    "import os \n",
    "\n",
    "host = os.getenv(\"MILVUS_HOST\", None)\n",
    "port = os.getenv(\"MILVUS_PORT\", None)\n",
    "password = 'password'\n",
    "user = 'ibmlhadmin'\n",
    "server_pem_path = 'cert.crt'\n",
    "\n",
    "connections.connect(alias = 'default',\n",
    "                   host = host,\n",
    "                   port = port,\n",
    "                   user = user,\n",
    "                   password = password,\n",
    "                   server_pem_path = server_pem_path,\n",
    "                   server_name = 'watsonxdata',\n",
    "                   secure = True)\n",
    "\n",
    "# Load collection\n",
    "\n",
    "basic_collection = Collection(\"wiki_articles\")      \n",
    "basic_collection.load()\n",
    "\n",
    "# Query function\n",
    "def query_milvus(query, num_results=5):\n",
    "    \n",
    "    # Vectorize query\n",
    "    model = SentenceTransformer('sentence-transformers/all-MiniLM-L6-v2') # 384 dim\n",
    "    query_embeddings = model.encode([query])\n",
    "\n",
    "    # Search\n",
    "    search_params = {\n",
    "        \"metric_type\": \"L2\", \n",
    "        \"params\": {\"nprobe\": 5}\n",
    "    }\n",
    "    results = basic_collection.search(\n",
    "        data=query_embeddings, \n",
    "        anns_field=\"vector\", \n",
    "        param=search_params,\n",
    "        limit=num_results,\n",
    "        expr=None, \n",
    "        output_fields=['article_text'],\n",
    "    )\n",
    "    return results"
   ]
  },
  {
   "cell_type": "code",
   "execution_count": 13,
   "metadata": {},
   "outputs": [
    {
     "name": "stderr",
     "output_type": "stream",
     "text": [
      "E0507 15:33:50.020963000 13732294656 ssl_transport_security.cc:1511]   Handshake failed with fatal error SSL_ERROR_SSL: error:1000007d:SSL routines:OPENSSL_internal:CERTIFICATE_VERIFY_FAILED.\n"
     ]
    }
   ],
   "source": [
    "## Consider how climate change may relate to other industries and processes related to your business\n",
    "\n",
    "question_text = \"What can my company do to help fight climate change?\""
   ]
  },
  {
   "cell_type": "code",
   "execution_count": 31,
   "metadata": {},
   "outputs": [
    {
     "name": "stderr",
     "output_type": "stream",
     "text": [
      "E0507 16:19:34.998575000 13732294656 ssl_transport_security.cc:1511]   Handshake failed with fatal error SSL_ERROR_SSL: error:1000007d:SSL routines:OPENSSL_internal:CERTIFICATE_VERIFY_FAILED.\n",
      "E0507 16:19:59.153999000 13840625664 ssl_transport_security.cc:1511]   Handshake failed with fatal error SSL_ERROR_SSL: error:1000007d:SSL routines:OPENSSL_internal:CERTIFICATE_VERIFY_FAILED.\n"
     ]
    }
   ],
   "source": [
    "# Query Milvus \n",
    "\n",
    "def get_chunks(query):\n",
    "    num_results = 3\n",
    "    results = query_milvus(query, num_results)\n",
    "\n",
    "    relevant_chunks = []\n",
    "    for i in range(num_results):    \n",
    "        #print(f\"id: {results[0].ids[i]}\")\n",
    "        #print(f\"distance: {results[0].distances[i]}\")\n",
    "        text = results[0][i].entity.get('article_text')\n",
    "        relevant_chunks.append(text)\n",
    "    \n",
    "    #print(relevant_chunks)\n",
    "    return relevant_chunks"
   ]
  },
  {
   "cell_type": "code",
   "execution_count": 32,
   "metadata": {},
   "outputs": [],
   "source": [
    "def make_prompt(context, question_text):\n",
    "    context = \"\\n\\n\".join(context)\n",
    "    return (f\"{context}\\n\\nPlease answer a question using this text. \"\n",
    "          + f\"If the question is unanswerable, say \\\"unanswerable\\\".\"\n",
    "          + f\"\\n\\nQuestion: {question_text}\")\n"
   ]
  },
  {
   "cell_type": "code",
   "execution_count": 19,
   "metadata": {},
   "outputs": [
    {
     "name": "stderr",
     "output_type": "stream",
     "text": [
      "E0507 15:49:55.819932000 13732294656 ssl_transport_security.cc:1511]   Handshake failed with fatal error SSL_ERROR_SSL: error:1000007d:SSL routines:OPENSSL_internal:CERTIFICATE_VERIFY_FAILED.\n"
     ]
    }
   ],
   "source": [
    "from ibm_watson_machine_learning.foundation_models import Model\n",
    "from ibm_watson_machine_learning.metanames import GenTextParamsMetaNames as GenParams\n",
    "\n",
    "# Model Parameters\n",
    "params = {\n",
    "        GenParams.DECODING_METHOD: \"greedy\",\n",
    "        GenParams.MIN_NEW_TOKENS: 1,\n",
    "        GenParams.MAX_NEW_TOKENS: 500,\n",
    "        GenParams.TEMPERATURE: 0,\n",
    "}\n",
    "model = Model(\n",
    "        model_id='meta-llama/llama-2-70b-chat', \n",
    "        params=params, credentials=creds, \n",
    "        project_id=project_id\n",
    ")\n",
    "\n",
    "# Prompt LLM\n",
    "def ask_llm(prompt):\n",
    "        response = model.generate_text(prompt)\n",
    "        print(f\"Question: {question_text}{response}\")\n",
    "        return response"
   ]
  },
  {
   "cell_type": "code",
   "execution_count": 36,
   "metadata": {},
   "outputs": [
    {
     "data": {
      "application/vnd.jupyter.widget-view+json": {
       "model_id": "b364a6e05b0e431191ee027e1d35302b",
       "version_major": 2,
       "version_minor": 0
      },
      "text/plain": [
       "Box(children=(HBox(children=(RadioButtons(description='Please choose', options=('without RAG', 'with RAG'), va…"
      ]
     },
     "metadata": {},
     "output_type": "display_data"
    },
    {
     "name": "stdout",
     "output_type": "stream",
     "text": [
      "Question: What can my company do to help fight climate change?\n",
      "\n",
      "Answer: Your company can reduce its carbon footprint by transitioning to renewable energy sources, implementing energy-efficient technologies, reducing waste and emissions, and promoting sustainable practices throughout its supply chain. Additionally, it can invest in carbon offsetting projects, such as reforestation or renewable energy projects, to compensate for its remaining emissions. By taking these steps, your company can play a role in mitigating climate change and contributing to a more sustainable future.\n"
     ]
    },
    {
     "name": "stderr",
     "output_type": "stream",
     "text": [
      "E0507 16:52:24.543482000 13732294656 ssl_transport_security.cc:1511]   Handshake failed with fatal error SSL_ERROR_SSL: error:1000007d:SSL routines:OPENSSL_internal:CERTIFICATE_VERIFY_FAILED.\n"
     ]
    },
    {
     "name": "stdout",
     "output_type": "stream",
     "text": [
      "Question: What can my company do to help fight climate change?\n",
      "There are many ways your company can help fight climate change. Here are some suggestions:\n",
      "\n",
      "1. Reduce energy consumption: Encourage employees to turn off lights, computers, and other electronic devices when not in use. Install energy-efficient lighting and appliances, and consider using renewable energy sources like solar or wind power.\n",
      "2. Implement sustainable practices: Encourage employees to use public transportation, carpool, or bike to work. Offer incentives for employees who use eco-friendly commuting methods.\n",
      "3. Reduce waste: Encourage employees to reduce, reuse, and recycle. Implement a recycling program and composting program for food waste.\n",
      "4. Use eco-friendly products: Switch to eco-friendly cleaning products, office supplies, and other products.\n",
      "5. Support renewable energy projects: Consider investing in renewable energy projects, such as wind or solar farms, to help reduce your company's carbon footprint.\n",
      "6. Engage employees: Encourage employees to take action to reduce their own carbon footprint. Offer educational resources and workshops to help employees learn about climate change and how they can make a difference.\n",
      "7. Measure and report progress: Track your company's carbon emissions and report on progress towards reducing them. This can help motivate employees and stakeholders to take action.\n",
      "8. Collaborate with suppliers: Work with your suppliers to reduce their carbon footprint and promote sustainability throughout your supply chain.\n",
      "9. Invest in sustainable technologies: Consider investing in sustainable technologies such as electric vehicles, energy-efficient HVAC systems, and green roofs.\n",
      "10. Support climate change mitigation efforts: Consider donating to organizations that work to mitigate the effects of climate change, such as reforestation efforts or disaster relief funds.\n",
      "\n",
      "Remember, every small action counts, and taking a comprehensive approach to sustainability can have a significant impact on reducing your company's carbon footprint and contributing to the fight against climate change.\n"
     ]
    },
    {
     "name": "stderr",
     "output_type": "stream",
     "text": [
      "E0507 16:54:01.545698000 13840625664 ssl_transport_security.cc:1511]   Handshake failed with fatal error SSL_ERROR_SSL: error:1000007d:SSL routines:OPENSSL_internal:CERTIFICATE_VERIFY_FAILED.\n",
      "E0507 16:54:07.733571000 13732294656 ssl_transport_security.cc:1511]   Handshake failed with fatal error SSL_ERROR_SSL: error:1000007d:SSL routines:OPENSSL_internal:CERTIFICATE_VERIFY_FAILED.\n",
      "E0507 16:55:59.005150000 13732294656 ssl_transport_security.cc:1511]   Handshake failed with fatal error SSL_ERROR_SSL: error:1000007d:SSL routines:OPENSSL_internal:CERTIFICATE_VERIFY_FAILED.\n",
      "E0507 16:56:08.368578000 13840625664 ssl_transport_security.cc:1511]   Handshake failed with fatal error SSL_ERROR_SSL: error:1000007d:SSL routines:OPENSSL_internal:CERTIFICATE_VERIFY_FAILED.\n",
      "E0507 16:57:38.307764000 13732294656 ssl_transport_security.cc:1511]   Handshake failed with fatal error SSL_ERROR_SSL: error:1000007d:SSL routines:OPENSSL_internal:CERTIFICATE_VERIFY_FAILED.\n",
      "E0507 16:58:00.818838000 13840625664 ssl_transport_security.cc:1511]   Handshake failed with fatal error SSL_ERROR_SSL: error:1000007d:SSL routines:OPENSSL_internal:CERTIFICATE_VERIFY_FAILED.\n",
      "E0507 16:59:56.960604000 13732294656 ssl_transport_security.cc:1511]   Handshake failed with fatal error SSL_ERROR_SSL: error:1000007d:SSL routines:OPENSSL_internal:CERTIFICATE_VERIFY_FAILED.\n",
      "E0507 17:00:10.595818000 13840625664 ssl_transport_security.cc:1511]   Handshake failed with fatal error SSL_ERROR_SSL: error:1000007d:SSL routines:OPENSSL_internal:CERTIFICATE_VERIFY_FAILED.\n",
      "E0507 17:02:02.284583000 13840625664 ssl_transport_security.cc:1511]   Handshake failed with fatal error SSL_ERROR_SSL: error:1000007d:SSL routines:OPENSSL_internal:CERTIFICATE_VERIFY_FAILED.\n",
      "E0507 17:02:17.129182000 13732294656 ssl_transport_security.cc:1511]   Handshake failed with fatal error SSL_ERROR_SSL: error:1000007d:SSL routines:OPENSSL_internal:CERTIFICATE_VERIFY_FAILED.\n",
      "E0507 17:04:00.184844000 13732294656 ssl_transport_security.cc:1511]   Handshake failed with fatal error SSL_ERROR_SSL: error:1000007d:SSL routines:OPENSSL_internal:CERTIFICATE_VERIFY_FAILED.\n",
      "E0507 17:04:24.598168000 13840625664 ssl_transport_security.cc:1511]   Handshake failed with fatal error SSL_ERROR_SSL: error:1000007d:SSL routines:OPENSSL_internal:CERTIFICATE_VERIFY_FAILED.\n",
      "E0507 17:06:01.320682000 13732294656 ssl_transport_security.cc:1511]   Handshake failed with fatal error SSL_ERROR_SSL: error:1000007d:SSL routines:OPENSSL_internal:CERTIFICATE_VERIFY_FAILED.\n",
      "E0507 17:06:01.468022000 13840625664 ssl_transport_security.cc:1511]   Handshake failed with fatal error SSL_ERROR_SSL: error:1000007d:SSL routines:OPENSSL_internal:CERTIFICATE_VERIFY_FAILED.\n",
      "E0507 17:07:39.337373000 13840625664 ssl_transport_security.cc:1511]   Handshake failed with fatal error SSL_ERROR_SSL: error:1000007d:SSL routines:OPENSSL_internal:CERTIFICATE_VERIFY_FAILED.\n",
      "E0507 17:08:21.830862000 13732294656 ssl_transport_security.cc:1511]   Handshake failed with fatal error SSL_ERROR_SSL: error:1000007d:SSL routines:OPENSSL_internal:CERTIFICATE_VERIFY_FAILED.\n"
     ]
    }
   ],
   "source": [
    "from ipywidgets import widgets\n",
    "\n",
    "text_input = widgets.Text(value=question_text, disabled=False)\n",
    "result_text = widgets.Textarea(value='', disabled=True)\n",
    "\n",
    "def on_click(b):\n",
    "#    display('You clicked the button!' + text_input.value + \" radio=\" + radio.value)\n",
    "    if (radio.value == \"with RAG\"):\n",
    "        result_text.value = \"asking AI (with RAG) ...\"\n",
    "        prompt = text_input.value\n",
    "    else:\n",
    "        result_text.value = \"asking AI (without RAG) ...\"\n",
    "        chunks = get_chunks(text_input.value)\n",
    "        prompt = make_prompt(chunks, text_input.value)\n",
    "    result_text.value = ask_llm(prompt)\n",
    "\n",
    "button = widgets.Button(description='Ask AI');\n",
    "button.on_click(on_click)\n",
    "\n",
    "radio=widgets.RadioButtons(options=['without RAG', 'with RAG'], description='Please choose')\n",
    "\n",
    "radio_box  = widgets.HBox([radio])\n",
    "input_box  = widgets.Box([widgets.Label('Your question!'), text_input, button])\n",
    "result_box = widgets.Box([result_text],\n",
    "                         layout=widgets.Layout(height='300px', width='1000px'))\n",
    "box = widgets.Box(children=[radio_box, input_box , result_box],\n",
    "                  layout=widgets.Layout(display='flex',\n",
    "                  flex_flow='wrap',\n",
    "                  justify_content='space-between',\n",
    "                  align_items='center',\n",
    "                  width='100%'))\n",
    "\n",
    "display(box)\n"
   ]
  }
 ],
 "metadata": {
  "kernelspec": {
   "display_name": "venv",
   "language": "python",
   "name": "python3"
  },
  "language_info": {
   "codemirror_mode": {
    "name": "ipython",
    "version": 3
   },
   "file_extension": ".py",
   "mimetype": "text/x-python",
   "name": "python",
   "nbconvert_exporter": "python",
   "pygments_lexer": "ipython3",
   "version": "3.12.3"
  }
 },
 "nbformat": 4,
 "nbformat_minor": 2
}
